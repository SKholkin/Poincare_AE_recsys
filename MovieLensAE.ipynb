{
 "cells": [
  {
   "cell_type": "code",
   "execution_count": 3,
   "metadata": {},
   "outputs": [
    {
     "name": "stdout",
     "output_type": "stream",
     "text": [
      "Requirement already satisfied: livelossplot in /home/skholkin/projects/python_venv/lib/python3.10/site-packages (0.5.5)\n",
      "Requirement already satisfied: matplotlib in /home/skholkin/projects/python_venv/lib/python3.10/site-packages (from livelossplot) (3.6.3)\n",
      "Requirement already satisfied: bokeh in /home/skholkin/projects/python_venv/lib/python3.10/site-packages (from livelossplot) (3.1.0)\n",
      "Requirement already satisfied: pillow>=7.1.0 in /home/skholkin/projects/python_venv/lib/python3.10/site-packages (from bokeh->livelossplot) (9.4.0)\n",
      "Requirement already satisfied: tornado>=5.1 in /home/skholkin/projects/python_venv/lib/python3.10/site-packages (from bokeh->livelossplot) (6.2)\n",
      "Requirement already satisfied: PyYAML>=3.10 in /home/skholkin/projects/python_venv/lib/python3.10/site-packages (from bokeh->livelossplot) (6.0)\n",
      "Requirement already satisfied: contourpy>=1 in /home/skholkin/projects/python_venv/lib/python3.10/site-packages (from bokeh->livelossplot) (1.0.7)\n",
      "Requirement already satisfied: packaging>=16.8 in /home/skholkin/projects/python_venv/lib/python3.10/site-packages (from bokeh->livelossplot) (23.0)\n",
      "Requirement already satisfied: xyzservices>=2021.09.1 in /home/skholkin/projects/python_venv/lib/python3.10/site-packages (from bokeh->livelossplot) (2023.2.0)\n",
      "Requirement already satisfied: Jinja2>=2.9 in /home/skholkin/projects/python_venv/lib/python3.10/site-packages (from bokeh->livelossplot) (3.1.2)\n",
      "Requirement already satisfied: pandas>=1.2 in /home/skholkin/projects/python_venv/lib/python3.10/site-packages (from bokeh->livelossplot) (1.5.2)\n",
      "Requirement already satisfied: numpy>=1.16 in /home/skholkin/projects/python_venv/lib/python3.10/site-packages (from bokeh->livelossplot) (1.23.5)\n",
      "Requirement already satisfied: pyparsing>=2.2.1 in /home/skholkin/projects/python_venv/lib/python3.10/site-packages (from matplotlib->livelossplot) (3.0.9)\n",
      "Requirement already satisfied: fonttools>=4.22.0 in /home/skholkin/projects/python_venv/lib/python3.10/site-packages (from matplotlib->livelossplot) (4.38.0)\n",
      "Requirement already satisfied: python-dateutil>=2.7 in /home/skholkin/projects/python_venv/lib/python3.10/site-packages (from matplotlib->livelossplot) (2.8.2)\n",
      "Requirement already satisfied: cycler>=0.10 in /home/skholkin/projects/python_venv/lib/python3.10/site-packages (from matplotlib->livelossplot) (0.11.0)\n",
      "Requirement already satisfied: kiwisolver>=1.0.1 in /home/skholkin/projects/python_venv/lib/python3.10/site-packages (from matplotlib->livelossplot) (1.4.4)\n",
      "Requirement already satisfied: MarkupSafe>=2.0 in /home/skholkin/projects/python_venv/lib/python3.10/site-packages (from Jinja2>=2.9->bokeh->livelossplot) (2.1.1)\n",
      "Requirement already satisfied: pytz>=2020.1 in /home/skholkin/projects/python_venv/lib/python3.10/site-packages (from pandas>=1.2->bokeh->livelossplot) (2022.7)\n",
      "Requirement already satisfied: six>=1.5 in /home/skholkin/projects/python_venv/lib/python3.10/site-packages (from python-dateutil>=2.7->matplotlib->livelossplot) (1.16.0)\n"
     ]
    }
   ],
   "source": [
    "!pip install livelossplot"
   ]
  },
  {
   "cell_type": "code",
   "execution_count": 16,
   "metadata": {},
   "outputs": [],
   "source": [
    "import torch\n",
    "import torchvision\n",
    "import pandas as pd\n",
    "import numpy as np\n",
    "from tqdm import tqdm\n",
    "import torch.nn as nn\n",
    "import torch.optim as optim\n",
    "from torch.autograd import Variable\n",
    "from torch.utils.data import Dataset, DataLoader\n",
    "from torchvision import transforms, utils\n",
    "import matplotlib.pyplot as plt\n",
    "import matplotlib.pyplot as pyplot\n",
    "from livelossplot import PlotLosses"
   ]
  },
  {
   "cell_type": "code",
   "execution_count": 11,
   "metadata": {},
   "outputs": [],
   "source": [
    "\n",
    "class MSEloss_with_Mask(nn.Module):\n",
    "  def __init__(self):\n",
    "    super(MSEloss_with_Mask,self).__init__()\n",
    "\n",
    "  def forward(self,inputs, targets):\n",
    "    # Masking into a vector of 1's and 0's.\n",
    "    mask = (targets!=0)\n",
    "    mask = mask.float()\n",
    "\n",
    "    # Actual number of ratings.\n",
    "    # Take max to avoid division by zero while calculating loss.\n",
    "    other = torch.Tensor([1.0])\n",
    "#     other = other.cuda()\n",
    "    number_ratings = torch.max(torch.sum(mask),other)\n",
    "    error = torch.sum(torch.mul(mask,torch.mul((targets-inputs),(targets-inputs))))\n",
    "    loss = error.div(number_ratings)\n",
    "    return loss[0]\n"
   ]
  },
  {
   "cell_type": "markdown",
   "metadata": {},
   "source": [
    "### Dataset and DataLoader"
   ]
  },
  {
   "cell_type": "code",
   "execution_count": 12,
   "metadata": {},
   "outputs": [],
   "source": [
    "\n",
    "class TestDataset(Dataset):\n",
    "    def __init__(self, test_file, transform=None):\n",
    "        self.data = pd.read_csv(test_file)\n",
    "        self.data = self.data.iloc[:,1:]\n",
    "        self.transform = transform\n",
    "        \n",
    "        if transform is not None:\n",
    "            self.data = self.transform(np.array(self.data))\n",
    "        \n",
    "    def __len__(self):\n",
    "        return len(self.data[0])\n",
    "    \n",
    "    def __getitem__(self, ind):\n",
    "        user_vector = self.data.data[0][ind]\n",
    "        \n",
    "        return user_vector\n",
    "    \n",
    "\n",
    "class TrainDataset(Dataset):\n",
    "    def __init__(self, train_file, transform=None):\n",
    "        self.data = pd.read_csv(train_file)\n",
    "        self.data = self.data.iloc[:,1:]\n",
    "        self.transform = transform\n",
    "        \n",
    "        if transform is not None:\n",
    "            self.data = self.transform(np.array(self.data))\n",
    "        \n",
    "    def __len__(self):\n",
    "        return len(self.data[0])\n",
    "    \n",
    "    def __getitem__(self, ind):\n",
    "        user_vector = self.data.data[0][ind]\n",
    "        \n",
    "        return user_vector"
   ]
  },
  {
   "cell_type": "code",
   "execution_count": 13,
   "metadata": {},
   "outputs": [
    {
     "name": "stdout",
     "output_type": "stream",
     "text": [
      "Training Length:  6039\n",
      "6th User Ratings:  tensor([4., 0., 0.,  ..., 0., 0., 0.], dtype=torch.float64)\n"
     ]
    }
   ],
   "source": [
    "transformations = transforms.Compose([transforms.ToTensor()])\n",
    "train_dat = TrainDataset('train_1m.csv', transformations)\n",
    "\n",
    "print(\"Training Length: \", train_dat.__len__())\n",
    "print(\"6th User Ratings: \", train_dat.__getitem__(7))"
   ]
  },
  {
   "cell_type": "code",
   "execution_count": 14,
   "metadata": {},
   "outputs": [
    {
     "name": "stdout",
     "output_type": "stream",
     "text": [
      "Testing Length:  6039\n",
      "6th User Ratings:  tensor([0., 0., 0.,  ..., 0., 0., 0.], dtype=torch.float64)\n"
     ]
    }
   ],
   "source": [
    "test_dat = TestDataset('test_1m.csv', transformations)\n",
    "print(\"Testing Length: \", test_dat.__len__())\n",
    "print(\"6th User Ratings: \", test_dat.__getitem__(4))"
   ]
  },
  {
   "cell_type": "code",
   "execution_count": 31,
   "metadata": {},
   "outputs": [
    {
     "name": "stdout",
     "output_type": "stream",
     "text": [
      "cpu\n"
     ]
    }
   ],
   "source": [
    "batch_size = 64\n",
    "train_dl = DataLoader(dataset=train_dat, batch_size = batch_size, shuffle=False, num_workers = 1)\n",
    "\n",
    "test_dl = DataLoader(dataset=test_dat, batch_size=batch_size, shuffle=False, num_workers=1)\n",
    "\n",
    "use_cuda = torch.cuda.is_available()\n",
    "device = torch.device(\"cuda:0\" if use_cuda else \"cpu\")\n",
    "print(device)"
   ]
  },
  {
   "cell_type": "markdown",
   "metadata": {},
   "source": [
    "### Model"
   ]
  },
  {
   "cell_type": "code",
   "execution_count": 18,
   "metadata": {},
   "outputs": [],
   "source": [
    "import torch\n",
    "import torch.nn as nn\n",
    "import torch.nn.functional as F\n",
    "import torch.nn.init as init\n",
    "\n",
    "\n",
    "def activation(input, type):\n",
    "  \n",
    "    if type.lower()=='selu':\n",
    "        return F.selu(input)\n",
    "    elif type.lower()=='elu':\n",
    "        return F.elu(input)\n",
    "    elif type.lower()=='relu':\n",
    "        return F.relu(input)\n",
    "    elif type.lower()=='relu6':\n",
    "        return F.relu6(input)\n",
    "    elif type.lower()=='lrelu':\n",
    "        return F.leaky_relu(input)\n",
    "    elif type.lower()=='tanh':\n",
    "        return F.tanh(input)\n",
    "    elif type.lower()=='sigmoid':\n",
    "        return F.sigmoid(input)\n",
    "    elif type.lower()=='swish':\n",
    "        return F.sigmoid(input)*input\n",
    "    elif type.lower()=='identity':\n",
    "        return input\n",
    "    else:\n",
    "        raise ValueError(\"Unknown non-Linearity Type\")\n",
    "\n",
    "\n",
    "class AutoEncoder(nn.Module):\n",
    "\n",
    "    def __init__(self, layer_sizes, nl_type='selu', is_constrained=True, dp_drop_prob=0.0, last_layer_activations=True):\n",
    "        \"\"\"\n",
    "        layer_sizes = size of each layer in the autoencoder model\n",
    "        For example: [10000, 1024, 512] will result in:\n",
    "            - encoder 2 layers: 10000x1024 and 1024x512. Representation layer (z) will be 512\n",
    "            - decoder 2 layers: 512x1024 and 1024x10000.\n",
    "        \n",
    "        nl_type = non-Linearity type (default: 'selu).\n",
    "        is_constrained = If true then the weights of encoder and decoder are tied.\n",
    "        dp_drop_prob = Dropout probability.\n",
    "        last_layer_activations = Whether to apply activation on last decoder layer.\n",
    "        \"\"\"\n",
    "\n",
    "        super(AutoEncoder, self).__init__()\n",
    "\n",
    "        self.layer_sizes = layer_sizes\n",
    "        self.nl_type = nl_type\n",
    "        self.is_constrained = is_constrained\n",
    "        self.dp_drop_prob = dp_drop_prob\n",
    "        self.last_layer_activations = last_layer_activations\n",
    "\n",
    "        if dp_drop_prob>0:\n",
    "            self.drop = nn.Dropout(dp_drop_prob)\n",
    "\n",
    "        self._last = len(layer_sizes) - 2\n",
    "\n",
    "        # Initaialize Weights\n",
    "        self.encoder_weights = nn.ParameterList( [nn.Parameter(torch.rand(layer_sizes[i+1], layer_sizes[i])) for i in range(len(layer_sizes) - 1)  ] )\n",
    "\n",
    "        # \"Xavier Initialization\" ( Understanding the Difficulty in training deep feed forward neural networks - by Glorot, X. & Bengio, Y. )\n",
    "        # ( Values are sampled from uniform distribution )\n",
    "        for weights in self.encoder_weights:\n",
    "            init.xavier_uniform_(weights)\n",
    "\n",
    "        # Encoder Bias\n",
    "        self.encoder_bias = nn.ParameterList( [nn.Parameter(torch.zeros(layer_sizes[i+1])) for i in range(len(layer_sizes) - 1) ] )\n",
    "\n",
    "        reverse_layer_sizes = list(reversed(layer_sizes)) \n",
    "        # reversed returns iterator\n",
    "\n",
    "\n",
    "        # Decoder Weights\n",
    "        if is_constrained == False:\n",
    "            self.decoder_weights = nn.ParameterList( [nn.Parameter(torch.rand(reverse_layer_sizes[i+1], reverse_layer_sizes[i])) for i in range(len(reverse_layer_sizes) - 1) ] )\n",
    "\n",
    "            for weights in self.decoder_weights:\n",
    "                init.xavier_uniform_(weights)\n",
    "\n",
    "        self.decoder_bias = nn.ParameterList( [nn.Parameter(torch.zeros(reverse_layer_sizes[i+1])) for i in range(len(reverse_layer_sizes) - 1) ] )\n",
    "\n",
    "\n",
    "\n",
    "    def encode(self,x):\n",
    "        for i,w in enumerate(self.encoder_weights):\n",
    "            x = F.linear(input=x, weight = w, bias = self.encoder_bias[i] )\n",
    "            x = activation(input=x, type=self.nl_type)\n",
    "\n",
    "        # Apply Dropout on the last layer\n",
    "        if self.dp_drop_prob > 0:\n",
    "            x = self.drop(x)\n",
    "\n",
    "        return x\n",
    "\n",
    "\n",
    "    def decode(self,x):\n",
    "        if self.is_constrained == True:\n",
    "            # Weights are tied\n",
    "            for i,w in zip(range(len(self.encoder_weights)),list(reversed(self.encoder_weights))):\n",
    "                x = F.linear(input=x, weight=w.t(), bias = self.decoder_bias[i] )\n",
    "                x = activation(input=x, type=self.nl_type if i != self._last or self.last_layer_activations else 'identity')\n",
    "\n",
    "        else:\n",
    "\n",
    "            for i,w in enumerate(self.decoder_weights):\n",
    "                x = F.linear(input=x, weight = w, bias = self.decoder_weights[i])\n",
    "                x = activation(input=x, type=self.nl_type if i != self._last or self.last_layer_activations else 'identity')\n",
    "\n",
    "        return x\n",
    "\n",
    "    def forward(self,x):\n",
    "        # Forward Pass\n",
    "        return self.decode(self.encode(x))\n",
    "\n"
   ]
  },
  {
   "cell_type": "code",
   "execution_count": 43,
   "metadata": {},
   "outputs": [],
   "source": [
    "\n",
    "layer_sizes = [3701, 512, 512, 1024]\n",
    "\n",
    "layer_sizes = [3701, 512, 256]\n",
    "model = AutoEncoder(layer_sizes=layer_sizes, nl_type='selu', is_constrained=True, dp_drop_prob=0.0, last_layer_activations=False)\n",
    "optimizer = optim.Adam(model.parameters(), lr=0.0001)"
   ]
  },
  {
   "cell_type": "code",
   "execution_count": 44,
   "metadata": {},
   "outputs": [],
   "source": [
    "\n",
    "\n",
    "criterion = MSEloss_with_Mask()"
   ]
  },
  {
   "cell_type": "markdown",
   "metadata": {},
   "source": [
    "### Train"
   ]
  },
  {
   "cell_type": "code",
   "execution_count": 45,
   "metadata": {},
   "outputs": [],
   "source": [
    "def train(model, criterion, optimizer, train_dl, test_dl, num_epochs=40):\n",
    "  # We will run for 40 epochs\n",
    "  liveloss = PlotLosses()\n",
    "  for epoch in range(num_epochs):\n",
    "    train_loss, valid_loss = [], []\n",
    "    logs = {}\n",
    "    prefix = ''\n",
    "\n",
    "    # Training Part\n",
    "    model.train()\n",
    "    for i, data in enumerate(train_dl, 0):\n",
    "      # Get the inputs\n",
    "      inputs = labels = data\n",
    "#       inputs = inputs.cuda()\n",
    "#       labels = labels.cuda()\n",
    "\n",
    "      inputs = inputs.float()\n",
    "      labels = labels.float()\n",
    "\n",
    "      # zero the parameter gradients\n",
    "      optimizer.zero_grad()\n",
    "      # forward + backward + optimize\n",
    "      outputs = model(inputs)\n",
    "#       outputs = outputs.cuda()\n",
    "#       print(outputs.device, labels.device)\n",
    "#       print(criterion.device)\n",
    "      loss = criterion(outputs, labels)\n",
    "      loss.backward()\n",
    "      optimizer.step()\n",
    "\n",
    "      ## -> Iterative Dense Output Re-feeding <- ##\n",
    "      \n",
    "      # Add a \"for\" loop to iterate as much you want\n",
    "      \n",
    "      # Zero the gradiants\n",
    "      optimizer.zero_grad()\n",
    "      \n",
    "      # Important -> detach() the output, to avoid unecessary construction of \n",
    "      # the computational graph\n",
    "      outputs = model(outputs.detach())\n",
    "#       outputs = outputs.cuda() \n",
    "      \n",
    "      loss = criterion(outputs, labels)\n",
    "      loss.backward()\n",
    "      optimizer.step()\n",
    "\n",
    "      train_loss.append(loss.item())\n",
    "      logs[prefix + 'MMSE loss'] = loss.item()\n",
    "\n",
    "    for i, data in enumerate(test_dl, 0):\n",
    "      model.eval()\n",
    "      inputs = labels = data\n",
    "#       inputs = inputs.cuda()\n",
    "#       labels = labels.cuda()\n",
    "\n",
    "      inputs = inputs.float()\n",
    "      labels = labels.float()\n",
    "\n",
    "      outputs = model(inputs)\n",
    "#       outputs = outputs.cuda()\n",
    "      loss = criterion(outputs, labels)\n",
    "\n",
    "      valid_loss.append(loss.item())\n",
    "      prefix = 'val_'\n",
    "      logs[prefix + 'MMSE loss'] = loss.item()\n",
    "\n",
    "#     hlr2_tr_loss.append(np.mean(train_loss))\n",
    "#     hlr2_val_loss.append(np.mean(valid_loss))\n",
    "    liveloss.update(logs)\n",
    "    liveloss.draw()\n",
    "    print (\"Epoch:\", epoch+1, \" Training Loss: \", np.mean(train_loss), \" Valid Loss: \", np.mean(valid_loss))\n",
    "    if epoch == num_epochs -1:\n",
    "      return outputs"
   ]
  },
  {
   "cell_type": "code",
   "execution_count": 46,
   "metadata": {},
   "outputs": [
    {
     "data": {
      "image/png": "[encoded data removed]",
      "text/plain": [
       "<Figure size 1200x800 with 2 Axes>"
      ]
     },
     "metadata": {},
     "output_type": "display_data"
    },
    {
     "name": "stdout",
     "output_type": "stream",
     "text": [
      "MMSE loss\n",
      "\ttraining         \t (min:    0.288, max:    1.077, cur:    0.288)\n",
      "\tvalidation       \t (min:    0.220, max:    0.990, cur:    0.220)\n",
      "Epoch: 40  Training Loss:  0.5731569418781682  Valid Loss:  0.49639093687659813\n"
     ]
    }
   ],
   "source": [
    "out = train(model, criterion, optimizer, train_dl, test_dl, 40)"
   ]
  },
  {
   "cell_type": "markdown",
   "metadata": {},
   "source": [
    "### Calculating Recall and HR"
   ]
  },
  {
   "cell_type": "code",
   "execution_count": 47,
   "metadata": {},
   "outputs": [
    {
     "data": {
      "text/plain": [
       "0.14587737843551796"
      ]
     },
     "execution_count": 47,
     "metadata": {},
     "output_type": "execute_result"
    }
   ],
   "source": [
    "\n",
    "def get_HR(model, train_loader, test_loader, top_n=10):\n",
    "\n",
    "    counter, hits = 0, 0\n",
    "    r = []\n",
    "    for i, (batch_train, batch_val) in enumerate(zip(iter(train_loader), iter(test_loader))):\n",
    "        delta = batch_val - batch_train\n",
    "        predicted_val = model(batch_train.float()) - batch_train\n",
    "        for k in range(delta.shape[0]):\n",
    "            non_zero_ind = np.nonzero(delta[k])\n",
    "            if len(non_zero_ind) > 0:\n",
    "                counter += 1\n",
    "                diff = set([int(item) for item  in np.argpartition(np.array(predicted_val.detach()[k]), -top_n)[-top_n:]]) - (set([int(item) for item in non_zero_ind]))\n",
    "                \n",
    "                if len(diff) < top_n:\n",
    "                    hits += 1\n",
    "    return hits / counter\n",
    "\n",
    "get_HR(model, train_dl, test_dl)\n"
   ]
  },
  {
   "cell_type": "code",
   "execution_count": 50,
   "metadata": {},
   "outputs": [
    {
     "data": {
      "text/plain": [
       "0.043463207268371974"
      ]
     },
     "execution_count": 50,
     "metadata": {},
     "output_type": "execute_result"
    }
   ],
   "source": [
    "\n",
    "def get_recall(model, train_loader, test_loader, top_n=50):\n",
    "\n",
    "    counter, hits = 0, 0\n",
    "    r = []\n",
    "    for i, (batch_train, batch_val) in enumerate(zip(iter(train_loader), iter(test_loader))):\n",
    "        delta = batch_val - batch_train\n",
    "        predicted_val = model(batch_train.float()) - batch_train\n",
    "        for k in range(delta.shape[0]):\n",
    "            non_zero_ind = np.nonzero(delta[k])\n",
    "            if len(non_zero_ind) > 0:\n",
    "                counter += 1\n",
    "#                 print(non_zero_ind)\n",
    "                diff = set([int(item) for item  in np.argpartition(np.array(predicted_val.detach()[k]), -top_n)[-top_n:]]).intersection(set([int(item) for item in non_zero_ind]))\n",
    "                \n",
    "#                 diff = set([int(item) for item  in np.argpartition(np.array(predicted_val.detach()[k]), -top_n)[-top_n:]]) - set([int(non_zero_ind[0])])\n",
    "        \n",
    "#                 diff = set([int(item) for item  in np.argpartition(np.array(predicted_val.detach()[k]), -top_n)[-top_n:]]) - set([int(non_zero_ind[0])])\n",
    "                r.append(len(diff) / len(non_zero_ind))\n",
    "                if len(diff) < top_n:\n",
    "                    hits += 1\n",
    "    return np.mean(r)\n",
    "    return hits / counter\n",
    "        \n",
    "get_recall(model, train_dl, test_dl)\n"
   ]
  },
  {
   "cell_type": "code",
   "execution_count": 42,
   "metadata": {},
   "outputs": [
    {
     "name": "stdout",
     "output_type": "stream",
     "text": [
      "==========================================================================================\n",
      "Layer (type:depth-idx)                   Output Shape              Param #\n",
      "==========================================================================================\n",
      "AutoEncoder                              [64, 3701]                2,688,117\n",
      "==========================================================================================\n",
      "Total params: 2,688,117\n",
      "Trainable params: 2,688,117\n",
      "Non-trainable params: 0\n",
      "Total mult-adds (M): 0\n",
      "==========================================================================================\n",
      "Input size (MB): 0.95\n",
      "Forward/backward pass size (MB): 0.00\n",
      "Params size (MB): 0.00\n",
      "Estimated Total Size (MB): 0.95\n",
      "==========================================================================================\n"
     ]
    },
    {
     "data": {
      "text/plain": [
       "==========================================================================================\n",
       "Layer (type:depth-idx)                   Output Shape              Param #\n",
       "==========================================================================================\n",
       "AutoEncoder                              [64, 3701]                2,688,117\n",
       "==========================================================================================\n",
       "Total params: 2,688,117\n",
       "Trainable params: 2,688,117\n",
       "Non-trainable params: 0\n",
       "Total mult-adds (M): 0\n",
       "==========================================================================================\n",
       "Input size (MB): 0.95\n",
       "Forward/backward pass size (MB): 0.00\n",
       "Params size (MB): 0.00\n",
       "Estimated Total Size (MB): 0.95\n",
       "=========================================================================================="
      ]
     },
     "execution_count": 42,
     "metadata": {},
     "output_type": "execute_result"
    }
   ],
   "source": [
    "# from torchsummary import summary\n",
    "\n",
    "# summary(model, (64, 3701), verbose=2)\n",
    "from torchinfo import summary\n",
    "\n",
    "summary(model, input_size=(batch_size, 3701), verbose=2)"
   ]
  },
  {
   "cell_type": "markdown",
   "metadata": {},
   "source": [
    "### Jax model"
   ]
  },
  {
   "cell_type": "code",
   "execution_count": 105,
   "metadata": {},
   "outputs": [],
   "source": [
    "import jax\n",
    "import jax.numpy as jnp\n",
    "from flax import linen as nn\n",
    "from flax import struct\n",
    "\n",
    "import optax\n",
    "\n",
    "import numpy as np\n",
    "from flax import struct \n",
    "from clu import metrics\n",
    "from dataclasses import field\n",
    "from functools import partial\n",
    "from typing import Any, Callable, Optional, Tuple, Union\n",
    "from flax import struct  \n",
    "\n",
    "from clu import metrics\n",
    "\n",
    "from chex import Array\n",
    "from flax import linen as nn\n",
    "from flax.linen.activation import sigmoid, tanh\n",
    "from flax.linen.dtypes import promote_dtype\n",
    "from flax.linen.initializers import orthogonal\n",
    "from flax.linen.linear import default_kernel_init\n",
    "from jax import numpy as jnp\n",
    "from jax import random, vmap\n",
    "from chex import Array\n",
    "from jax import lax\n",
    "from jax.nn.initializers import Initializer as Initializer\n",
    "from jax._src import dtypes\n",
    "\n",
    "from flax.training import train_state\n",
    "\n",
    "key = jax.random.PRNGKey(0)"
   ]
  },
  {
   "cell_type": "code",
   "execution_count": 106,
   "metadata": {},
   "outputs": [],
   "source": [
    "\n",
    "@struct.dataclass\n",
    "class Metrics(metrics.Collection):\n",
    "  loss: metrics.Average.from_output('loss')\n",
    "    \n",
    "class TrainState(train_state.TrainState):\n",
    "  metrics: Metrics"
   ]
  },
  {
   "cell_type": "code",
   "execution_count": 107,
   "metadata": {},
   "outputs": [
    {
     "name": "stdout",
     "output_type": "stream",
     "text": [
      "\n",
      "\u001b[3m                                SimpleAE Summary                                \u001b[0m\n",
      "┏━━━━━━━━━┳━━━━━━━━━━┳━━━━━━━━━━━━━━━━━━┳━━━━━━━━━━━━━━━━━━┳━━━━━━━━━━━━━━━━━━━┓\n",
      "┃\u001b[1m \u001b[0m\u001b[1mpath   \u001b[0m\u001b[1m \u001b[0m┃\u001b[1m \u001b[0m\u001b[1mmodule  \u001b[0m\u001b[1m \u001b[0m┃\u001b[1m \u001b[0m\u001b[1minputs          \u001b[0m\u001b[1m \u001b[0m┃\u001b[1m \u001b[0m\u001b[1moutputs         \u001b[0m\u001b[1m \u001b[0m┃\u001b[1m \u001b[0m\u001b[1mparams           \u001b[0m\u001b[1m \u001b[0m┃\n",
      "┡━━━━━━━━━╇━━━━━━━━━━╇━━━━━━━━━━━━━━━━━━╇━━━━━━━━━━━━━━━━━━╇━━━━━━━━━━━━━━━━━━━┩\n",
      "│         │ SimpleAE │ \u001b[2mfloat32\u001b[0m[64,3701] │ \u001b[2mfloat32\u001b[0m[64,3701] │ Dense_0:          │\n",
      "│         │          │                  │                  │   bias:           │\n",
      "│         │          │                  │                  │ \u001b[2mfloat32\u001b[0m[512]      │\n",
      "│         │          │                  │                  │   kernel:         │\n",
      "│         │          │                  │                  │ \u001b[2mfloat32\u001b[0m[3701,512] │\n",
      "│         │          │                  │                  │ Dense_1:          │\n",
      "│         │          │                  │                  │   bias:           │\n",
      "│         │          │                  │                  │ \u001b[2mfloat32\u001b[0m[256]      │\n",
      "│         │          │                  │                  │   kernel:         │\n",
      "│         │          │                  │                  │ \u001b[2mfloat32\u001b[0m[512,256]  │\n",
      "│         │          │                  │                  │ Dense_2:          │\n",
      "│         │          │                  │                  │   bias:           │\n",
      "│         │          │                  │                  │ \u001b[2mfloat32\u001b[0m[512]      │\n",
      "│         │          │                  │                  │   kernel:         │\n",
      "│         │          │                  │                  │ \u001b[2mfloat32\u001b[0m[256,512]  │\n",
      "│         │          │                  │                  │ Dense_3:          │\n",
      "│         │          │                  │                  │   bias:           │\n",
      "│         │          │                  │                  │ \u001b[2mfloat32\u001b[0m[3701]     │\n",
      "│         │          │                  │                  │   kernel:         │\n",
      "│         │          │                  │                  │ \u001b[2mfloat32\u001b[0m[512,3701] │\n",
      "│         │          │                  │                  │                   │\n",
      "│         │          │                  │                  │ \u001b[1m4,056,949 \u001b[0m\u001b[1;2m(16.2 \u001b[0m  │\n",
      "│         │          │                  │                  │ \u001b[1;2mMB)\u001b[0m               │\n",
      "├─────────┼──────────┼──────────────────┼──────────────────┼───────────────────┤\n",
      "│ Dense_0 │ Dense    │ \u001b[2mfloat32\u001b[0m[64,3701] │ \u001b[2mfloat32\u001b[0m[64,512]  │ bias:             │\n",
      "│         │          │                  │                  │ \u001b[2mfloat32\u001b[0m[512]      │\n",
      "│         │          │                  │                  │ kernel:           │\n",
      "│         │          │                  │                  │ \u001b[2mfloat32\u001b[0m[3701,512] │\n",
      "│         │          │                  │                  │                   │\n",
      "│         │          │                  │                  │ \u001b[1m1,895,424 \u001b[0m\u001b[1;2m(7.6 \u001b[0m   │\n",
      "│         │          │                  │                  │ \u001b[1;2mMB)\u001b[0m               │\n",
      "├─────────┼──────────┼──────────────────┼──────────────────┼───────────────────┤\n",
      "│ Dense_1 │ Dense    │ \u001b[2mfloat32\u001b[0m[64,512]  │ \u001b[2mfloat32\u001b[0m[64,256]  │ bias:             │\n",
      "│         │          │                  │                  │ \u001b[2mfloat32\u001b[0m[256]      │\n",
      "│         │          │                  │                  │ kernel:           │\n",
      "│         │          │                  │                  │ \u001b[2mfloat32\u001b[0m[512,256]  │\n",
      "│         │          │                  │                  │                   │\n",
      "│         │          │                  │                  │ \u001b[1m131,328 \u001b[0m\u001b[1;2m(525.3 \u001b[0m   │\n",
      "│         │          │                  │                  │ \u001b[1;2mKB)\u001b[0m               │\n",
      "├─────────┼──────────┼──────────────────┼──────────────────┼───────────────────┤\n",
      "│ Dense_2 │ Dense    │ \u001b[2mfloat32\u001b[0m[64,256]  │ \u001b[2mfloat32\u001b[0m[64,512]  │ bias:             │\n",
      "│         │          │                  │                  │ \u001b[2mfloat32\u001b[0m[512]      │\n",
      "│         │          │                  │                  │ kernel:           │\n",
      "│         │          │                  │                  │ \u001b[2mfloat32\u001b[0m[256,512]  │\n",
      "│         │          │                  │                  │                   │\n",
      "│         │          │                  │                  │ \u001b[1m131,584 \u001b[0m\u001b[1;2m(526.3 \u001b[0m   │\n",
      "│         │          │                  │                  │ \u001b[1;2mKB)\u001b[0m               │\n",
      "├─────────┼──────────┼──────────────────┼──────────────────┼───────────────────┤\n",
      "│ Dense_3 │ Dense    │ \u001b[2mfloat32\u001b[0m[64,512]  │ \u001b[2mfloat32\u001b[0m[64,3701] │ bias:             │\n",
      "│         │          │                  │                  │ \u001b[2mfloat32\u001b[0m[3701]     │\n",
      "│         │          │                  │                  │ kernel:           │\n",
      "│         │          │                  │                  │ \u001b[2mfloat32\u001b[0m[512,3701] │\n",
      "│         │          │                  │                  │                   │\n",
      "│         │          │                  │                  │ \u001b[1m1,898,613 \u001b[0m\u001b[1;2m(7.6 \u001b[0m   │\n",
      "│         │          │                  │                  │ \u001b[1;2mMB)\u001b[0m               │\n",
      "├─────────┼──────────┼──────────────────┼──────────────────┼───────────────────┤\n",
      "│\u001b[1m \u001b[0m\u001b[1m       \u001b[0m\u001b[1m \u001b[0m│\u001b[1m \u001b[0m\u001b[1m        \u001b[0m\u001b[1m \u001b[0m│\u001b[1m \u001b[0m\u001b[1m                \u001b[0m\u001b[1m \u001b[0m│\u001b[1m \u001b[0m\u001b[1m           Total\u001b[0m\u001b[1m \u001b[0m│\u001b[1m \u001b[0m\u001b[1m8,113,898 \u001b[0m\u001b[1;2m(32.5 \u001b[0m\u001b[1m \u001b[0m\u001b[1m \u001b[0m│\n",
      "│\u001b[1m         \u001b[0m│\u001b[1m          \u001b[0m│\u001b[1m                  \u001b[0m│\u001b[1m                  \u001b[0m│\u001b[1m \u001b[0m\u001b[1;2mMB)\u001b[0m\u001b[1m              \u001b[0m\u001b[1m \u001b[0m│\n",
      "└─────────┴──────────┴──────────────────┴──────────────────┴───────────────────┘\n",
      "\u001b[1m                                                                                \u001b[0m\n",
      "\u001b[1m                     Total Parameters: 8,113,898 \u001b[0m\u001b[1;2m(32.5 MB)\u001b[0m\u001b[1m                      \u001b[0m\n",
      "\n",
      "\n"
     ]
    }
   ],
   "source": [
    "\n",
    "dim = next(iter(train_dl)).shape[1]\n",
    "\n",
    "hidden_dim = 1000\n",
    "\n",
    "layer_sizes = [3701, 512, 256]\n",
    "\n",
    "class SimpleAE(nn.Module):\n",
    "    \n",
    "  @nn.compact\n",
    "  def __call__(self, x):\n",
    "    x = nn.Dense(layer_sizes[1])(x)\n",
    "    x = nn.selu(x)\n",
    "    x = nn.Dense(layer_sizes[2])(x)\n",
    "    x = nn.selu(x)\n",
    "    x = nn.Dense(layer_sizes[1])(x)\n",
    "    x = nn.selu(x)\n",
    "    x = nn.Dense(layer_sizes[0])(x)\n",
    "    return x\n",
    "\n",
    "autoencoder = SimpleAE()\n",
    "print(autoencoder.tabulate(jax.random.PRNGKey(42), jnp.ones((batch_size, dim))))\n"
   ]
  },
  {
   "cell_type": "code",
   "execution_count": 124,
   "metadata": {},
   "outputs": [],
   "source": [
    "\n",
    "def create_train_state(module, rng, learning_rate):\n",
    "  \"\"\"Creates an initial `TrainState`.\"\"\"\n",
    "  params = module.init(rng, jnp.ones([batch_size, dim]))['params'] # initialize parameters by passing a template image\n",
    "  tx = optax.sgd(learning_rate)\n",
    "  return TrainState.create(\n",
    "      apply_fn=module.apply, params=params, tx=tx,\n",
    "      metrics=Metrics.empty())\n",
    "\n",
    "train_state = create_train_state(autoencoder, jax.random.PRNGKey(43), 1e-3)\n"
   ]
  },
  {
   "cell_type": "code",
   "execution_count": 125,
   "metadata": {},
   "outputs": [],
   "source": [
    "\n",
    "def MSEMasked(inputs, targets): # Masking into a vector of 1's and 0's.\n",
    "    mask = (targets!=0)\n",
    "    mask = jnp.float32(mask)\n",
    "\n",
    "    # Actual number of ratings.\n",
    "    # Take max to avoid division by zero while calculating loss.\n",
    "    other = jnp.array(1.0)\n",
    "    number_ratings = jnp.maximum(jnp.sum(mask), other)\n",
    "    error = jnp.sum(mask * (targets - inputs) ** 2)\n",
    "    loss = error / number_ratings\n",
    "#     print(loss)\n",
    "    return loss\n",
    "    \n",
    "    \n",
    "@jax.jit\n",
    "def train_step(state, batch):\n",
    "  \"\"\"Train for a single step.\"\"\"\n",
    "\n",
    "\n",
    "  def loss_fn(params):\n",
    "    x_rec = state.apply_fn({'params': params}, batch)\n",
    "    loss = MSEMasked(batch, x_rec)\n",
    "    return loss\n",
    "\n",
    "  grad_fn = jax.grad(loss_fn)\n",
    "  grads = grad_fn(state.params)\n",
    "  state = state.apply_gradients(grads=grads)\n",
    "  return state\n",
    "\n",
    "@jax.jit\n",
    "def compute_metrics(*, state, batch):\n",
    "    x_rec = state.apply_fn({'params': state.params}, batch)\n",
    "    loss = ((x_rec - batch) ** 2).mean()\n",
    "    metric_updates = state.metrics.single_from_model_output(loss=loss)\n",
    "    metrics = state.metrics.merge(metric_updates)\n",
    "    state = state.replace(metrics=metrics)\n",
    "    return state\n",
    "\n",
    "@jax.jit\n",
    "def predict(state, batch):\n",
    "    x_rec = state.apply_fn({'params': state.params}, batch)\n",
    "    return x_rec\n"
   ]
  },
  {
   "cell_type": "code",
   "execution_count": 126,
   "metadata": {},
   "outputs": [
    {
     "name": "stdout",
     "output_type": "stream",
     "text": [
      "(64, 3701)\n"
     ]
    },
    {
     "data": {
      "text/plain": [
       "Array(1.2523139, dtype=float32)"
      ]
     },
     "execution_count": 126,
     "metadata": {},
     "output_type": "execute_result"
    }
   ],
   "source": [
    "\n",
    "sample_batch = jnp.array(next(iter(train_dl)))\n",
    "\n",
    "train_step(train_state, sample_batch)\n",
    "\n",
    "train_state = compute_metrics(state=train_state, batch=sample_batch)\n",
    "train_state.metrics.compute()['loss']"
   ]
  },
  {
   "cell_type": "code",
   "execution_count": 128,
   "metadata": {
    "collapsed": true
   },
   "outputs": [
    {
     "name": "stdout",
     "output_type": "stream",
     "text": [
      "Epoch: 0 Iter 94 Metrics: 0.9329450726509094\n",
      "Epoch: 1 Iter 94 Metrics: 0.9311440587043762\n",
      "Epoch: 2 Iter 94 Metrics: 0.9293568134307861\n",
      "Epoch: 3 Iter 94 Metrics: 0.927582859992981\n",
      "Epoch: 4 Iter 94 Metrics: 0.9258226752281189\n",
      "Epoch: 5 Iter 94 Metrics: 0.9240760207176208\n",
      "Epoch: 6 Iter 94 Metrics: 0.922342836856842\n",
      "Epoch: 7 Iter 94 Metrics: 0.920622706413269\n",
      "Epoch: 8 Iter 94 Metrics: 0.9189158082008362\n",
      "Epoch: 9 Iter 94 Metrics: 0.9172219038009644\n",
      "Epoch: 10 Iter 94 Metrics: 0.9155409336090088\n",
      "Epoch: 11 Iter 94 Metrics: 0.9138728380203247\n",
      "Epoch: 12 Iter 94 Metrics: 0.9122170805931091\n",
      "Epoch: 13 Iter 94 Metrics: 0.9105738997459412\n",
      "Epoch: 14 Iter 94 Metrics: 0.9089427590370178\n",
      "Epoch: 15 Iter 94 Metrics: 0.9073240756988525\n",
      "Epoch: 16 Iter 94 Metrics: 0.9057179093360901\n",
      "Epoch: 17 Iter 94 Metrics: 0.9041229486465454\n",
      "Epoch: 18 Iter 94 Metrics: 0.9025402069091797\n",
      "Epoch: 19 Iter 94 Metrics: 0.9009694457054138\n",
      "Epoch: 20 Iter 94 Metrics: 0.8994104266166687\n",
      "Epoch: 21 Iter 94 Metrics: 0.8978630304336548\n",
      "Epoch: 22 Iter 94 Metrics: 0.8963268995285034\n",
      "Epoch: 23 Iter 94 Metrics: 0.894801914691925\n",
      "Epoch: 24 Iter 94 Metrics: 0.893288254737854\n",
      "Epoch: 25 Iter 94 Metrics: 0.8917858600616455\n",
      "Epoch: 26 Iter 94 Metrics: 0.8902943134307861\n",
      "Epoch: 27 Iter 94 Metrics: 0.8888137340545654\n",
      "Epoch: 28 Iter 94 Metrics: 0.88734370470047\n",
      "Epoch: 29 Iter 94 Metrics: 0.8858848810195923\n",
      "Epoch: 30 Iter 94 Metrics: 0.8844363689422607\n",
      "Epoch: 31 Iter 94 Metrics: 0.882998526096344\n",
      "Epoch: 32 Iter 94 Metrics: 0.8815706968307495\n",
      "Epoch: 33 Iter 94 Metrics: 0.880153477191925\n",
      "Epoch: 34 Iter 94 Metrics: 0.8787461519241333\n",
      "Epoch: 35 Iter 94 Metrics: 0.877348780632019\n",
      "Epoch: 36 Iter 94 Metrics: 0.8759616613388062\n",
      "Epoch: 37 Iter 94 Metrics: 0.8745842576026917\n",
      "Epoch: 38 Iter 94 Metrics: 0.8732166290283203\n",
      "Epoch: 39 Iter 94 Metrics: 0.8718588352203369\n",
      "Epoch: 40 Iter 94 Metrics: 0.8705103993415833\n",
      "Epoch: 41 Iter 94 Metrics: 0.8691713213920593\n",
      "Epoch: 42 Iter 94 Metrics: 0.867841899394989\n",
      "Epoch: 43 Iter 94 Metrics: 0.8665220737457275\n",
      "Epoch: 44 Iter 94 Metrics: 0.865210771560669\n",
      "Epoch: 45 Iter 94 Metrics: 0.8639088869094849\n",
      "Epoch: 46 Iter 94 Metrics: 0.8626161813735962\n",
      "Epoch: 47 Iter 94 Metrics: 0.8613321781158447\n",
      "Epoch: 48 Iter 94 Metrics: 0.8600568771362305\n",
      "Epoch: 49 Iter 94 Metrics: 0.8587905168533325\n",
      "Epoch: 50 Iter 94 Metrics: 0.8575325608253479\n",
      "Epoch: 51 Iter 94 Metrics: 0.85628342628479\n",
      "Epoch: 52 Iter 94 Metrics: 0.855042576789856\n",
      "Epoch: 53 Iter 94 Metrics: 0.8538098931312561\n",
      "Epoch: 54 Iter 94 Metrics: 0.8525857329368591\n",
      "Epoch: 55 Iter 94 Metrics: 0.8513697981834412\n",
      "Epoch: 56 Iter 94 Metrics: 0.8501617908477783\n",
      "Epoch: 57 Iter 94 Metrics: 0.8489616513252258\n",
      "Epoch: 58 Iter 94 Metrics: 0.8477694988250732\n",
      "Epoch: 59 Iter 94 Metrics: 0.8465854525566101\n",
      "Epoch: 60 Iter 94 Metrics: 0.8454088568687439\n",
      "Epoch: 61 Iter 94 Metrics: 0.8442400693893433\n",
      "Epoch: 62 Iter 94 Metrics: 0.8430789113044739\n",
      "Epoch: 63 Iter 94 Metrics: 0.8419253826141357\n",
      "Epoch: 64 Iter 94 Metrics: 0.8407793045043945\n",
      "Epoch: 65 Iter 94 Metrics: 0.8396404385566711\n",
      "Epoch: 66 Iter 94 Metrics: 0.8385085463523865\n",
      "Epoch: 67 Iter 94 Metrics: 0.8373839259147644\n",
      "Epoch: 68 Iter 94 Metrics: 0.8362664580345154\n",
      "Epoch: 69 Iter 94 Metrics: 0.8351560235023499\n",
      "Epoch: 70 Iter 94 Metrics: 0.8340529203414917\n",
      "Epoch: 71 Iter 94 Metrics: 0.8329566717147827\n",
      "Epoch: 72 Iter 94 Metrics: 0.8318671584129333\n",
      "Epoch: 73 Iter 94 Metrics: 0.830784261226654\n",
      "Epoch: 74 Iter 94 Metrics: 0.8297080993652344\n",
      "Epoch: 75 Iter 94 Metrics: 0.8286385536193848\n",
      "Epoch: 76 Iter 94 Metrics: 0.8275755643844604\n",
      "Epoch: 77 Iter 94 Metrics: 0.8265190124511719\n",
      "Epoch: 78 Iter 94 Metrics: 0.8254687190055847\n",
      "Epoch: 79 Iter 94 Metrics: 0.824424684047699\n",
      "Epoch: 80 Iter 94 Metrics: 0.8233870267868042\n",
      "Epoch: 81 Iter 94 Metrics: 0.8223552703857422\n",
      "Epoch: 82 Iter 94 Metrics: 0.8213297128677368\n",
      "Epoch: 83 Iter 94 Metrics: 0.820310115814209\n",
      "Epoch: 84 Iter 94 Metrics: 0.8192968368530273\n",
      "Epoch: 85 Iter 94 Metrics: 0.8182895183563232\n",
      "Epoch: 86 Iter 94 Metrics: 0.8172877430915833\n",
      "Epoch: 87 Iter 94 Metrics: 0.8162919282913208\n",
      "Epoch: 88 Iter 94 Metrics: 0.8153018951416016\n",
      "Epoch: 89 Iter 94 Metrics: 0.8143177628517151\n",
      "Epoch: 90 Iter 94 Metrics: 0.8133392930030823\n",
      "Epoch: 91 Iter 94 Metrics: 0.8123665452003479\n",
      "Epoch: 92 Iter 94 Metrics: 0.8113994598388672\n",
      "Epoch: 93 Iter 94 Metrics: 0.8104376792907715\n",
      "Epoch: 94 Iter 94 Metrics: 0.8094813823699951\n",
      "Epoch: 95 Iter 94 Metrics: 0.8085306882858276\n",
      "Epoch: 96 Iter 94 Metrics: 0.8075851202011108\n",
      "Epoch: 97 Iter 94 Metrics: 0.806644856929779\n",
      "Epoch: 98 Iter 94 Metrics: 0.8057100176811218\n",
      "Epoch: 99 Iter 94 Metrics: 0.8047805428504944\n"
     ]
    }
   ],
   "source": [
    "epochs = 100\n",
    "for ep in range(epochs):\n",
    "    ep_loss = []\n",
    "    for i, batch in enumerate(iter(train_dl)):\n",
    "        batch = jnp.array(batch)\n",
    "        train_state = train_step(train_state, batch)\n",
    "        train_state = compute_metrics(state=train_state, batch=batch)\n",
    "        metrics = train_state.metrics.compute()['loss']\n",
    "        ep_loss.append(metrics)\n",
    "    \n",
    "    print(f'Epoch: {ep} Iter {i} Metrics: {jnp.mean(np.array(ep_loss))}')"
   ]
  },
  {
   "cell_type": "code",
   "execution_count": 130,
   "metadata": {},
   "outputs": [
    {
     "name": "stdout",
     "output_type": "stream",
     "text": [
      "Epoch: 99 Iter 94 Metrics: 0.8030096888542175\n"
     ]
    }
   ],
   "source": [
    "\n",
    "ep_loss = []\n",
    "for i, batch in enumerate(iter(test_dl)):\n",
    "    batch = jnp.array(batch)\n",
    "    train_state = train_step(train_state, batch)\n",
    "    train_state = compute_metrics(state=train_state, batch=batch)\n",
    "    metrics = train_state.metrics.compute()['loss']\n",
    "    ep_loss.append(metrics)\n",
    "\n",
    "print(f'Epoch: {ep} Iter {i} Metrics: {jnp.mean(np.array(ep_loss))}')\n"
   ]
  },
  {
   "cell_type": "code",
   "execution_count": 152,
   "metadata": {},
   "outputs": [
    {
     "data": {
      "text/plain": [
       "0.2917547568710359"
      ]
     },
     "execution_count": 152,
     "metadata": {},
     "output_type": "execute_result"
    }
   ],
   "source": [
    "\n",
    "def get_HR_jax(state, train_loader, test_loader, top_n=10):\n",
    "\n",
    "    counter, hits = 0, 0\n",
    "    r = []\n",
    "    for i, (batch_train, batch_val) in enumerate(zip(iter(train_loader), iter(test_loader))):\n",
    "        batch_train, batch_val = jnp.array(batch_train), jnp.array(batch_val)\n",
    "        delta = batch_val - batch_train\n",
    "        state.params\n",
    "        x_rec = state.apply_fn({'params': state.params}, batch_train)\n",
    "        \n",
    "        for k in range(delta.shape[0]):\n",
    "            non_zero_ind = np.nonzero(np.array(delta[k]))[0]\n",
    "            if len(non_zero_ind) > 0:\n",
    "                counter += 1\n",
    "                diff = set([int(item) for item  in np.argpartition(np.array(x_rec[k]).reshape(-1), -top_n)[-top_n:]]) - (set([int(item) for item in non_zero_ind]))\n",
    "                \n",
    "                if len(diff) < top_n:\n",
    "                    hits += 1\n",
    "    return hits / counter\n",
    "\n",
    "get_HR_jax(train_state, train_dl, test_dl)\n"
   ]
  },
  {
   "cell_type": "code",
   "execution_count": null,
   "metadata": {},
   "outputs": [],
   "source": []
  },
  {
   "cell_type": "code",
   "execution_count": null,
   "metadata": {},
   "outputs": [],
   "source": []
  }
 ],
 "metadata": {
  "kernelspec": {
   "display_name": "Python 3 (ipykernel)",
   "language": "python",
   "name": "python3"
  },
  "language_info": {
   "codemirror_mode": {
    "name": "ipython",
    "version": 3
   },
   "file_extension": ".py",
   "mimetype": "text/x-python",
   "name": "python",
   "nbconvert_exporter": "python",
   "pygments_lexer": "ipython3",
   "version": "3.10.6"
  }
 },
 "nbformat": 4,
 "nbformat_minor": 2
}
