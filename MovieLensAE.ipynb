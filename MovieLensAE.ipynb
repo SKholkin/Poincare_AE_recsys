{
 "cells": [
  {
   "cell_type": "code",
   "execution_count": 3,
   "metadata": {},
   "outputs": [
    {
     "name": "stdout",
     "output_type": "stream",
     "text": [
      "Requirement already satisfied: livelossplot in /home/skholkin/projects/python_venv/lib/python3.10/site-packages (0.5.5)\n",
      "Requirement already satisfied: matplotlib in /home/skholkin/projects/python_venv/lib/python3.10/site-packages (from livelossplot) (3.6.3)\n",
      "Requirement already satisfied: bokeh in /home/skholkin/projects/python_venv/lib/python3.10/site-packages (from livelossplot) (3.1.0)\n",
      "Requirement already satisfied: pillow>=7.1.0 in /home/skholkin/projects/python_venv/lib/python3.10/site-packages (from bokeh->livelossplot) (9.4.0)\n",
      "Requirement already satisfied: tornado>=5.1 in /home/skholkin/projects/python_venv/lib/python3.10/site-packages (from bokeh->livelossplot) (6.2)\n",
      "Requirement already satisfied: PyYAML>=3.10 in /home/skholkin/projects/python_venv/lib/python3.10/site-packages (from bokeh->livelossplot) (6.0)\n",
      "Requirement already satisfied: contourpy>=1 in /home/skholkin/projects/python_venv/lib/python3.10/site-packages (from bokeh->livelossplot) (1.0.7)\n",
      "Requirement already satisfied: packaging>=16.8 in /home/skholkin/projects/python_venv/lib/python3.10/site-packages (from bokeh->livelossplot) (23.0)\n",
      "Requirement already satisfied: xyzservices>=2021.09.1 in /home/skholkin/projects/python_venv/lib/python3.10/site-packages (from bokeh->livelossplot) (2023.2.0)\n",
      "Requirement already satisfied: Jinja2>=2.9 in /home/skholkin/projects/python_venv/lib/python3.10/site-packages (from bokeh->livelossplot) (3.1.2)\n",
      "Requirement already satisfied: pandas>=1.2 in /home/skholkin/projects/python_venv/lib/python3.10/site-packages (from bokeh->livelossplot) (1.5.2)\n",
      "Requirement already satisfied: numpy>=1.16 in /home/skholkin/projects/python_venv/lib/python3.10/site-packages (from bokeh->livelossplot) (1.23.5)\n",
      "Requirement already satisfied: pyparsing>=2.2.1 in /home/skholkin/projects/python_venv/lib/python3.10/site-packages (from matplotlib->livelossplot) (3.0.9)\n",
      "Requirement already satisfied: fonttools>=4.22.0 in /home/skholkin/projects/python_venv/lib/python3.10/site-packages (from matplotlib->livelossplot) (4.38.0)\n",
      "Requirement already satisfied: python-dateutil>=2.7 in /home/skholkin/projects/python_venv/lib/python3.10/site-packages (from matplotlib->livelossplot) (2.8.2)\n",
      "Requirement already satisfied: cycler>=0.10 in /home/skholkin/projects/python_venv/lib/python3.10/site-packages (from matplotlib->livelossplot) (0.11.0)\n",
      "Requirement already satisfied: kiwisolver>=1.0.1 in /home/skholkin/projects/python_venv/lib/python3.10/site-packages (from matplotlib->livelossplot) (1.4.4)\n",
      "Requirement already satisfied: MarkupSafe>=2.0 in /home/skholkin/projects/python_venv/lib/python3.10/site-packages (from Jinja2>=2.9->bokeh->livelossplot) (2.1.1)\n",
      "Requirement already satisfied: pytz>=2020.1 in /home/skholkin/projects/python_venv/lib/python3.10/site-packages (from pandas>=1.2->bokeh->livelossplot) (2022.7)\n",
      "Requirement already satisfied: six>=1.5 in /home/skholkin/projects/python_venv/lib/python3.10/site-packages (from python-dateutil>=2.7->matplotlib->livelossplot) (1.16.0)\n"
     ]
    }
   ],
   "source": [
    "!pip install livelossplot"
   ]
  },
  {
   "cell_type": "code",
   "execution_count": 16,
   "metadata": {},
   "outputs": [],
   "source": [
    "import torch\n",
    "import torchvision\n",
    "import pandas as pd\n",
    "import numpy as np\n",
    "from tqdm import tqdm\n",
    "import torch.nn as nn\n",
    "import torch.optim as optim\n",
    "from torch.autograd import Variable\n",
    "from torch.utils.data import Dataset, DataLoader\n",
    "from torchvision import transforms, utils\n",
    "import matplotlib.pyplot as plt\n",
    "import matplotlib.pyplot as pyplot\n",
    "from livelossplot import PlotLosses"
   ]
  },
  {
   "cell_type": "code",
   "execution_count": 11,
   "metadata": {},
   "outputs": [],
   "source": [
    "\n",
    "class MSEloss_with_Mask(nn.Module):\n",
    "  def __init__(self):\n",
    "    super(MSEloss_with_Mask,self).__init__()\n",
    "\n",
    "  def forward(self,inputs, targets):\n",
    "    # Masking into a vector of 1's and 0's.\n",
    "    mask = (targets!=0)\n",
    "    mask = mask.float()\n",
    "\n",
    "    # Actual number of ratings.\n",
    "    # Take max to avoid division by zero while calculating loss.\n",
    "    other = torch.Tensor([1.0])\n",
    "#     other = other.cuda()\n",
    "    number_ratings = torch.max(torch.sum(mask),other)\n",
    "    error = torch.sum(torch.mul(mask,torch.mul((targets-inputs),(targets-inputs))))\n",
    "    loss = error.div(number_ratings)\n",
    "    return loss[0]\n"
   ]
  },
  {
   "cell_type": "markdown",
   "metadata": {},
   "source": [
    "### Dataset and DataLoader"
   ]
  },
  {
   "cell_type": "code",
   "execution_count": 12,
   "metadata": {},
   "outputs": [],
   "source": [
    "\n",
    "class TestDataset(Dataset):\n",
    "    def __init__(self, test_file, transform=None):\n",
    "        self.data = pd.read_csv(test_file)\n",
    "        self.data = self.data.iloc[:,1:]\n",
    "        self.transform = transform\n",
    "        \n",
    "        if transform is not None:\n",
    "            self.data = self.transform(np.array(self.data))\n",
    "        \n",
    "    def __len__(self):\n",
    "        return len(self.data[0])\n",
    "    \n",
    "    def __getitem__(self, ind):\n",
    "        user_vector = self.data.data[0][ind]\n",
    "        \n",
    "        return user_vector\n",
    "    \n",
    "\n",
    "class TrainDataset(Dataset):\n",
    "    def __init__(self, train_file, transform=None):\n",
    "        self.data = pd.read_csv(train_file)\n",
    "        self.data = self.data.iloc[:,1:]\n",
    "        self.transform = transform\n",
    "        \n",
    "        if transform is not None:\n",
    "            self.data = self.transform(np.array(self.data))\n",
    "        \n",
    "    def __len__(self):\n",
    "        return len(self.data[0])\n",
    "    \n",
    "    def __getitem__(self, ind):\n",
    "        user_vector = self.data.data[0][ind]\n",
    "        \n",
    "        return user_vector"
   ]
  },
  {
   "cell_type": "code",
   "execution_count": 13,
   "metadata": {},
   "outputs": [
    {
     "name": "stdout",
     "output_type": "stream",
     "text": [
      "Training Length:  6039\n",
      "6th User Ratings:  tensor([4., 0., 0.,  ..., 0., 0., 0.], dtype=torch.float64)\n"
     ]
    }
   ],
   "source": [
    "transformations = transforms.Compose([transforms.ToTensor()])\n",
    "train_dat = TrainDataset('train_1m.csv', transformations)\n",
    "\n",
    "print(\"Training Length: \", train_dat.__len__())\n",
    "print(\"6th User Ratings: \", train_dat.__getitem__(7))"
   ]
  },
  {
   "cell_type": "code",
   "execution_count": 14,
   "metadata": {},
   "outputs": [
    {
     "name": "stdout",
     "output_type": "stream",
     "text": [
      "Testing Length:  6039\n",
      "6th User Ratings:  tensor([0., 0., 0.,  ..., 0., 0., 0.], dtype=torch.float64)\n"
     ]
    }
   ],
   "source": [
    "test_dat = TestDataset('test_1m.csv', transformations)\n",
    "print(\"Testing Length: \", test_dat.__len__())\n",
    "print(\"6th User Ratings: \", test_dat.__getitem__(4))"
   ]
  },
  {
   "cell_type": "code",
   "execution_count": 31,
   "metadata": {},
   "outputs": [
    {
     "name": "stdout",
     "output_type": "stream",
     "text": [
      "cpu\n"
     ]
    }
   ],
   "source": [
    "batch_size = 64\n",
    "train_dl = DataLoader(dataset=train_dat, batch_size = batch_size, shuffle=False, num_workers = 1)\n",
    "\n",
    "test_dl = DataLoader(dataset=test_dat, batch_size=batch_size, shuffle=False, num_workers=1)\n",
    "\n",
    "use_cuda = torch.cuda.is_available()\n",
    "device = torch.device(\"cuda:0\" if use_cuda else \"cpu\")\n",
    "print(device)"
   ]
  },
  {
   "cell_type": "markdown",
   "metadata": {},
   "source": [
    "### Model"
   ]
  },
  {
   "cell_type": "code",
   "execution_count": 18,
   "metadata": {},
   "outputs": [],
   "source": [
    "import torch\n",
    "import torch.nn as nn\n",
    "import torch.nn.functional as F\n",
    "import torch.nn.init as init\n",
    "\n",
    "\n",
    "def activation(input, type):\n",
    "  \n",
    "    if type.lower()=='selu':\n",
    "        return F.selu(input)\n",
    "    elif type.lower()=='elu':\n",
    "        return F.elu(input)\n",
    "    elif type.lower()=='relu':\n",
    "        return F.relu(input)\n",
    "    elif type.lower()=='relu6':\n",
    "        return F.relu6(input)\n",
    "    elif type.lower()=='lrelu':\n",
    "        return F.leaky_relu(input)\n",
    "    elif type.lower()=='tanh':\n",
    "        return F.tanh(input)\n",
    "    elif type.lower()=='sigmoid':\n",
    "        return F.sigmoid(input)\n",
    "    elif type.lower()=='swish':\n",
    "        return F.sigmoid(input)*input\n",
    "    elif type.lower()=='identity':\n",
    "        return input\n",
    "    else:\n",
    "        raise ValueError(\"Unknown non-Linearity Type\")\n",
    "\n",
    "\n",
    "class AutoEncoder(nn.Module):\n",
    "\n",
    "    def __init__(self, layer_sizes, nl_type='selu', is_constrained=True, dp_drop_prob=0.0, last_layer_activations=True):\n",
    "        \"\"\"\n",
    "        layer_sizes = size of each layer in the autoencoder model\n",
    "        For example: [10000, 1024, 512] will result in:\n",
    "            - encoder 2 layers: 10000x1024 and 1024x512. Representation layer (z) will be 512\n",
    "            - decoder 2 layers: 512x1024 and 1024x10000.\n",
    "        \n",
    "        nl_type = non-Linearity type (default: 'selu).\n",
    "        is_constrained = If true then the weights of encoder and decoder are tied.\n",
    "        dp_drop_prob = Dropout probability.\n",
    "        last_layer_activations = Whether to apply activation on last decoder layer.\n",
    "        \"\"\"\n",
    "\n",
    "        super(AutoEncoder, self).__init__()\n",
    "\n",
    "        self.layer_sizes = layer_sizes\n",
    "        self.nl_type = nl_type\n",
    "        self.is_constrained = is_constrained\n",
    "        self.dp_drop_prob = dp_drop_prob\n",
    "        self.last_layer_activations = last_layer_activations\n",
    "\n",
    "        if dp_drop_prob>0:\n",
    "            self.drop = nn.Dropout(dp_drop_prob)\n",
    "\n",
    "        self._last = len(layer_sizes) - 2\n",
    "\n",
    "        # Initaialize Weights\n",
    "        self.encoder_weights = nn.ParameterList( [nn.Parameter(torch.rand(layer_sizes[i+1], layer_sizes[i])) for i in range(len(layer_sizes) - 1)  ] )\n",
    "\n",
    "        # \"Xavier Initialization\" ( Understanding the Difficulty in training deep feed forward neural networks - by Glorot, X. & Bengio, Y. )\n",
    "        # ( Values are sampled from uniform distribution )\n",
    "        for weights in self.encoder_weights:\n",
    "            init.xavier_uniform_(weights)\n",
    "\n",
    "        # Encoder Bias\n",
    "        self.encoder_bias = nn.ParameterList( [nn.Parameter(torch.zeros(layer_sizes[i+1])) for i in range(len(layer_sizes) - 1) ] )\n",
    "\n",
    "        reverse_layer_sizes = list(reversed(layer_sizes)) \n",
    "        # reversed returns iterator\n",
    "\n",
    "\n",
    "        # Decoder Weights\n",
    "        if is_constrained == False:\n",
    "            self.decoder_weights = nn.ParameterList( [nn.Parameter(torch.rand(reverse_layer_sizes[i+1], reverse_layer_sizes[i])) for i in range(len(reverse_layer_sizes) - 1) ] )\n",
    "\n",
    "            for weights in self.decoder_weights:\n",
    "                init.xavier_uniform_(weights)\n",
    "\n",
    "        self.decoder_bias = nn.ParameterList( [nn.Parameter(torch.zeros(reverse_layer_sizes[i+1])) for i in range(len(reverse_layer_sizes) - 1) ] )\n",
    "\n",
    "\n",
    "\n",
    "    def encode(self,x):\n",
    "        for i,w in enumerate(self.encoder_weights):\n",
    "            x = F.linear(input=x, weight = w, bias = self.encoder_bias[i] )\n",
    "            x = activation(input=x, type=self.nl_type)\n",
    "\n",
    "        # Apply Dropout on the last layer\n",
    "        if self.dp_drop_prob > 0:\n",
    "            x = self.drop(x)\n",
    "\n",
    "        return x\n",
    "\n",
    "\n",
    "    def decode(self,x):\n",
    "        if self.is_constrained == True:\n",
    "            # Weights are tied\n",
    "            for i,w in zip(range(len(self.encoder_weights)),list(reversed(self.encoder_weights))):\n",
    "                x = F.linear(input=x, weight=w.t(), bias = self.decoder_bias[i] )\n",
    "                x = activation(input=x, type=self.nl_type if i != self._last or self.last_layer_activations else 'identity')\n",
    "\n",
    "        else:\n",
    "\n",
    "            for i,w in enumerate(self.decoder_weights):\n",
    "                x = F.linear(input=x, weight = w, bias = self.decoder_weights[i])\n",
    "                x = activation(input=x, type=self.nl_type if i != self._last or self.last_layer_activations else 'identity')\n",
    "\n",
    "        return x\n",
    "\n",
    "    def forward(self,x):\n",
    "        # Forward Pass\n",
    "        return self.decode(self.encode(x))\n",
    "\n"
   ]
  },
  {
   "cell_type": "code",
   "execution_count": 25,
   "metadata": {},
   "outputs": [],
   "source": [
    "\n",
    "layer_sizes = [3701, 512, 512, 1024]\n",
    "model = AutoEncoder(layer_sizes=layer_sizes, nl_type='selu', is_constrained=True, dp_drop_prob=0.0, last_layer_activations=False)\n",
    "optimizer = optim.Adam(model.parameters(), lr=0.0001)"
   ]
  },
  {
   "cell_type": "code",
   "execution_count": 26,
   "metadata": {},
   "outputs": [],
   "source": [
    "\n",
    "\n",
    "criterion = MSEloss_with_Mask()"
   ]
  },
  {
   "cell_type": "markdown",
   "metadata": {},
   "source": [
    "### Train"
   ]
  },
  {
   "cell_type": "code",
   "execution_count": 27,
   "metadata": {},
   "outputs": [],
   "source": [
    "def train(model, criterion, optimizer, train_dl, test_dl, num_epochs=40):\n",
    "  # We will run for 40 epochs\n",
    "  liveloss = PlotLosses()\n",
    "  for epoch in range(num_epochs):\n",
    "    train_loss, valid_loss = [], []\n",
    "    logs = {}\n",
    "    prefix = ''\n",
    "\n",
    "    # Training Part\n",
    "    model.train()\n",
    "    for i, data in enumerate(train_dl, 0):\n",
    "      # Get the inputs\n",
    "      inputs = labels = data\n",
    "#       inputs = inputs.cuda()\n",
    "#       labels = labels.cuda()\n",
    "\n",
    "      inputs = inputs.float()\n",
    "      labels = labels.float()\n",
    "\n",
    "      # zero the parameter gradients\n",
    "      optimizer.zero_grad()\n",
    "      # forward + backward + optimize\n",
    "      outputs = model(inputs)\n",
    "#       outputs = outputs.cuda()\n",
    "#       print(outputs.device, labels.device)\n",
    "#       print(criterion.device)\n",
    "      loss = criterion(outputs, labels)\n",
    "      loss.backward()\n",
    "      optimizer.step()\n",
    "\n",
    "      ## -> Iterative Dense Output Re-feeding <- ##\n",
    "      \n",
    "      # Add a \"for\" loop to iterate as much you want\n",
    "      \n",
    "      # Zero the gradiants\n",
    "      optimizer.zero_grad()\n",
    "      \n",
    "      # Important -> detach() the output, to avoid unecessary construction of \n",
    "      # the computational graph\n",
    "      outputs = model(outputs.detach())\n",
    "#       outputs = outputs.cuda() \n",
    "      \n",
    "      loss = criterion(outputs, labels)\n",
    "      loss.backward()\n",
    "      optimizer.step()\n",
    "\n",
    "      train_loss.append(loss.item())\n",
    "      logs[prefix + 'MMSE loss'] = loss.item()\n",
    "\n",
    "    for i, data in enumerate(test_dl, 0):\n",
    "      model.eval()\n",
    "      inputs = labels = data\n",
    "#       inputs = inputs.cuda()\n",
    "#       labels = labels.cuda()\n",
    "\n",
    "      inputs = inputs.float()\n",
    "      labels = labels.float()\n",
    "\n",
    "      outputs = model(inputs)\n",
    "#       outputs = outputs.cuda()\n",
    "      loss = criterion(outputs, labels)\n",
    "\n",
    "      valid_loss.append(loss.item())\n",
    "      prefix = 'val_'\n",
    "      logs[prefix + 'MMSE loss'] = loss.item()\n",
    "\n",
    "#     hlr2_tr_loss.append(np.mean(train_loss))\n",
    "#     hlr2_val_loss.append(np.mean(valid_loss))\n",
    "    liveloss.update(logs)\n",
    "    liveloss.draw()\n",
    "    print (\"Epoch:\", epoch+1, \" Training Loss: \", np.mean(train_loss), \" Valid Loss: \", np.mean(valid_loss))\n",
    "    if epoch == num_epochs -1:\n",
    "      return outputs"
   ]
  },
  {
   "cell_type": "code",
   "execution_count": 28,
   "metadata": {},
   "outputs": [
    {
     "data": {
      "image/png": "[encoded data removed]",
      "text/plain": [
       "<Figure size 1200x800 with 2 Axes>"
      ]
     },
     "metadata": {},
     "output_type": "display_data"
    },
    {
     "name": "stdout",
     "output_type": "stream",
     "text": [
      "MMSE loss\n",
      "\ttraining         \t (min:    0.669, max:    0.895, cur:    0.669)\n",
      "\tvalidation       \t (min:    0.498, max:    0.806, cur:    0.498)\n",
      "Epoch: 9  Training Loss:  0.8529182735242342  Valid Loss:  0.7351013707617918\n"
     ]
    },
    {
     "ename": "KeyboardInterrupt",
     "evalue": "",
     "output_type": "error",
     "traceback": [
      "\u001b[0;31m---------------------------------------------------------------------------\u001b[0m",
      "\u001b[0;31mKeyboardInterrupt\u001b[0m                         Traceback (most recent call last)",
      "Cell \u001b[0;32mIn[28], line 1\u001b[0m\n\u001b[0;32m----> 1\u001b[0m out \u001b[38;5;241m=\u001b[39m \u001b[43mtrain\u001b[49m\u001b[43m(\u001b[49m\u001b[43mmodel\u001b[49m\u001b[43m,\u001b[49m\u001b[43m \u001b[49m\u001b[43mcriterion\u001b[49m\u001b[43m,\u001b[49m\u001b[43m \u001b[49m\u001b[43moptimizer\u001b[49m\u001b[43m,\u001b[49m\u001b[43m \u001b[49m\u001b[43mtrain_dl\u001b[49m\u001b[43m,\u001b[49m\u001b[43m \u001b[49m\u001b[43mtest_dl\u001b[49m\u001b[43m,\u001b[49m\u001b[43m \u001b[49m\u001b[38;5;241;43m40\u001b[39;49m\u001b[43m)\u001b[49m\n",
      "Cell \u001b[0;32mIn[27], line 44\u001b[0m, in \u001b[0;36mtrain\u001b[0;34m(model, criterion, optimizer, train_dl, test_dl, num_epochs)\u001b[0m\n\u001b[1;32m     41\u001b[0m \u001b[38;5;66;03m#       outputs = outputs.cuda() \u001b[39;00m\n\u001b[1;32m     43\u001b[0m       loss \u001b[38;5;241m=\u001b[39m criterion(outputs, labels)\n\u001b[0;32m---> 44\u001b[0m       \u001b[43mloss\u001b[49m\u001b[38;5;241;43m.\u001b[39;49m\u001b[43mbackward\u001b[49m\u001b[43m(\u001b[49m\u001b[43m)\u001b[49m\n\u001b[1;32m     45\u001b[0m       optimizer\u001b[38;5;241m.\u001b[39mstep()\n\u001b[1;32m     47\u001b[0m       train_loss\u001b[38;5;241m.\u001b[39mappend(loss\u001b[38;5;241m.\u001b[39mitem())\n",
      "File \u001b[0;32m~/projects/python_venv/lib/python3.10/site-packages/torch/_tensor.py:488\u001b[0m, in \u001b[0;36mTensor.backward\u001b[0;34m(self, gradient, retain_graph, create_graph, inputs)\u001b[0m\n\u001b[1;32m    478\u001b[0m \u001b[38;5;28;01mif\u001b[39;00m has_torch_function_unary(\u001b[38;5;28mself\u001b[39m):\n\u001b[1;32m    479\u001b[0m     \u001b[38;5;28;01mreturn\u001b[39;00m handle_torch_function(\n\u001b[1;32m    480\u001b[0m         Tensor\u001b[38;5;241m.\u001b[39mbackward,\n\u001b[1;32m    481\u001b[0m         (\u001b[38;5;28mself\u001b[39m,),\n\u001b[0;32m   (...)\u001b[0m\n\u001b[1;32m    486\u001b[0m         inputs\u001b[38;5;241m=\u001b[39minputs,\n\u001b[1;32m    487\u001b[0m     )\n\u001b[0;32m--> 488\u001b[0m \u001b[43mtorch\u001b[49m\u001b[38;5;241;43m.\u001b[39;49m\u001b[43mautograd\u001b[49m\u001b[38;5;241;43m.\u001b[39;49m\u001b[43mbackward\u001b[49m\u001b[43m(\u001b[49m\n\u001b[1;32m    489\u001b[0m \u001b[43m    \u001b[49m\u001b[38;5;28;43mself\u001b[39;49m\u001b[43m,\u001b[49m\u001b[43m \u001b[49m\u001b[43mgradient\u001b[49m\u001b[43m,\u001b[49m\u001b[43m \u001b[49m\u001b[43mretain_graph\u001b[49m\u001b[43m,\u001b[49m\u001b[43m \u001b[49m\u001b[43mcreate_graph\u001b[49m\u001b[43m,\u001b[49m\u001b[43m \u001b[49m\u001b[43minputs\u001b[49m\u001b[38;5;241;43m=\u001b[39;49m\u001b[43minputs\u001b[49m\n\u001b[1;32m    490\u001b[0m \u001b[43m\u001b[49m\u001b[43m)\u001b[49m\n",
      "File \u001b[0;32m~/projects/python_venv/lib/python3.10/site-packages/torch/autograd/__init__.py:197\u001b[0m, in \u001b[0;36mbackward\u001b[0;34m(tensors, grad_tensors, retain_graph, create_graph, grad_variables, inputs)\u001b[0m\n\u001b[1;32m    192\u001b[0m     retain_graph \u001b[38;5;241m=\u001b[39m create_graph\n\u001b[1;32m    194\u001b[0m \u001b[38;5;66;03m# The reason we repeat same the comment below is that\u001b[39;00m\n\u001b[1;32m    195\u001b[0m \u001b[38;5;66;03m# some Python versions print out the first line of a multi-line function\u001b[39;00m\n\u001b[1;32m    196\u001b[0m \u001b[38;5;66;03m# calls in the traceback and some print out the last line\u001b[39;00m\n\u001b[0;32m--> 197\u001b[0m \u001b[43mVariable\u001b[49m\u001b[38;5;241;43m.\u001b[39;49m\u001b[43m_execution_engine\u001b[49m\u001b[38;5;241;43m.\u001b[39;49m\u001b[43mrun_backward\u001b[49m\u001b[43m(\u001b[49m\u001b[43m  \u001b[49m\u001b[38;5;66;43;03m# Calls into the C++ engine to run the backward pass\u001b[39;49;00m\n\u001b[1;32m    198\u001b[0m \u001b[43m    \u001b[49m\u001b[43mtensors\u001b[49m\u001b[43m,\u001b[49m\u001b[43m \u001b[49m\u001b[43mgrad_tensors_\u001b[49m\u001b[43m,\u001b[49m\u001b[43m \u001b[49m\u001b[43mretain_graph\u001b[49m\u001b[43m,\u001b[49m\u001b[43m \u001b[49m\u001b[43mcreate_graph\u001b[49m\u001b[43m,\u001b[49m\u001b[43m \u001b[49m\u001b[43minputs\u001b[49m\u001b[43m,\u001b[49m\n\u001b[1;32m    199\u001b[0m \u001b[43m    \u001b[49m\u001b[43mallow_unreachable\u001b[49m\u001b[38;5;241;43m=\u001b[39;49m\u001b[38;5;28;43;01mTrue\u001b[39;49;00m\u001b[43m,\u001b[49m\u001b[43m \u001b[49m\u001b[43maccumulate_grad\u001b[49m\u001b[38;5;241;43m=\u001b[39;49m\u001b[38;5;28;43;01mTrue\u001b[39;49;00m\u001b[43m)\u001b[49m\n",
      "\u001b[0;31mKeyboardInterrupt\u001b[0m: "
     ]
    }
   ],
   "source": [
    "out = train(model, criterion, optimizer, train_dl, test_dl, 40)"
   ]
  },
  {
   "cell_type": "markdown",
   "metadata": {},
   "source": [
    "### Calculating Recall"
   ]
  },
  {
   "cell_type": "code",
   "execution_count": 33,
   "metadata": {},
   "outputs": [
    {
     "data": {
      "text/plain": [
       "0.20084566596194503"
      ]
     },
     "execution_count": 33,
     "metadata": {},
     "output_type": "execute_result"
    }
   ],
   "source": [
    "\n",
    "def get_HR(model, train_loader, test_loader, top_n=10):\n",
    "\n",
    "    counter, hits = 0, 0\n",
    "    r = []\n",
    "    for i, (batch_train, batch_val) in enumerate(zip(iter(train_loader), iter(test_loader))):\n",
    "        delta = batch_val - batch_train\n",
    "        predicted_val = model(batch_train.float()) - batch_train\n",
    "        for k in range(delta.shape[0]):\n",
    "            non_zero_ind = np.nonzero(delta[k])\n",
    "            if len(non_zero_ind) > 0:\n",
    "                counter += 1\n",
    "                diff = set([int(item) for item  in np.argpartition(np.array(predicted_val.detach()[k]), -top_n)[-top_n:]]) - (set([int(item) for item in non_zero_ind]))\n",
    "                \n",
    "                if len(diff) < top_n:\n",
    "                    hits += 1\n",
    "    return hits / counter\n",
    "\n",
    "get_HR(model, train_dl, test_dl)\n"
   ]
  },
  {
   "cell_type": "code",
   "execution_count": null,
   "metadata": {},
   "outputs": [],
   "source": [
    "\n",
    "def get_recall(model, train_loader, test_loader):\n",
    "\n",
    "    counter, hits = 0, 0\n",
    "    r = []\n",
    "    for i, (batch_train, batch_val) in enumerate(zip(iter(train_loader), iter(test_loader))):\n",
    "        delta = batch_val - batch_train\n",
    "        predicted_val = model(batch_train.float()) - batch_train\n",
    "        for k in range(delta.shape[0]):\n",
    "            non_zero_ind = np.nonzero(delta[k])\n",
    "            if len(non_zero_ind) > 0:\n",
    "                counter += 1\n",
    "#                 print(non_zero_ind)\n",
    "                diff = set([int(item) for item  in np.argpartition(np.array(predicted_val.detach()[k]), -top_n)[-top_n:]]).intersection(set([int(item) for item in non_zero_ind]))\n",
    "                \n",
    "#                 diff = set([int(item) for item  in np.argpartition(np.array(predicted_val.detach()[k]), -top_n)[-top_n:]]) - set([int(non_zero_ind[0])])\n",
    "        \n",
    "#                 diff = set([int(item) for item  in np.argpartition(np.array(predicted_val.detach()[k]), -top_n)[-top_n:]]) - set([int(non_zero_ind[0])])\n",
    "                r.append(len(diff) / len(non_zero_ind))\n",
    "                if len(diff) < top_n:\n",
    "                    hits += 1\n",
    "    return np.mean(r)\n",
    "    return hits / counter\n",
    "        \n",
    "get_recall(model, train_dl, test_dl)\n"
   ]
  }
 ],
 "metadata": {
  "kernelspec": {
   "display_name": "Python 3 (ipykernel)",
   "language": "python",
   "name": "python3"
  },
  "language_info": {
   "codemirror_mode": {
    "name": "ipython",
    "version": 3
   },
   "file_extension": ".py",
   "mimetype": "text/x-python",
   "name": "python",
   "nbconvert_exporter": "python",
   "pygments_lexer": "ipython3",
   "version": "3.10.6"
  }
 },
 "nbformat": 4,
 "nbformat_minor": 2
}
